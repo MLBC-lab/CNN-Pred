{
 "cells": [
  {
   "cell_type": "code",
   "execution_count": 2,
   "metadata": {},
   "outputs": [],
   "source": [
    "import numpy as np\n",
    "\n",
    "def monogram(H):\n",
    "    l = H.shape[0]\n",
    "    res = np.zeros(20)\n",
    "    for k in range(20):\n",
    "        res[k] = np.sum(H[:,k])/l\n",
    "    return res\n",
    "\n",
    "\n",
    "def bigram(H):\n",
    "    H = H.astype('float64')\n",
    "    L = H.shape[0]\n",
    "    res = np.zeros([20,20],'float64')\n",
    "    for i in range(L-1):\n",
    "        for l in range(20):\n",
    "            for k in range(20):\n",
    "                res[k][l] += H[i, k]*H[i+1, l]\n",
    "    return res/L"
   ]
  },
  {
   "cell_type": "code",
   "execution_count": null,
   "metadata": {},
   "outputs": [],
   "source": [
    "# for Test set #\n",
    "prob = np.load('/pssm/Test/pssm_nr2011/tprob.npy',allow_pickle=True)\n",
    "dataprob = []\n",
    "\n",
    "for sample in prob:\n",
    "    bi = bigram(sample).ravel()\n",
    "    mono = monogram(sample)\n",
    "    mono_bi = np.concatenate((mono,bi))\n",
    "    dataprob.append(mono_bi)\n",
    "    \n",
    "np.save('/pssm/Test/pssm_nr2011/monobi_tprob_pssm_nr2011', np.array(dataprob)) "
   ]
  },
  {
   "cell_type": "code",
   "execution_count": null,
   "metadata": {},
   "outputs": [],
   "source": [
    "# for Train set #\n",
    "prob = np.load('/pssm/Train/pssm_nr2011/prob.npy',allow_pickle=True)\n",
    "dataprob = []\n",
    "\n",
    "for sample in prob:\n",
    "    bi = bigram(sample).ravel()\n",
    "    mono = monogram(sample)\n",
    "    mono_bi = np.concatenate((mono,bi))\n",
    "    dataprob.append(mono_bi)\n",
    "    \n",
    "np.save('/pssm/Train/pssm_nr2011/monobi_prob_pssm_nr2011', np.array(dataprob)) "
   ]
  }
 ],
 "metadata": {
  "kernelspec": {
   "display_name": "Python 3",
   "language": "python",
   "name": "python3"
  },
  "language_info": {
   "codemirror_mode": {
    "name": "ipython",
    "version": 3
   },
   "file_extension": ".py",
   "mimetype": "text/x-python",
   "name": "python",
   "nbconvert_exporter": "python",
   "pygments_lexer": "ipython3",
   "version": "3.6.5"
  }
 },
 "nbformat": 4,
 "nbformat_minor": 2
}
